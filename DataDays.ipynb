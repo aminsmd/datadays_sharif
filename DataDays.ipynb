{
 "cells": [
  {
   "cell_type": "code",
   "execution_count": 154,
   "metadata": {},
   "outputs": [],
   "source": [
    "import pandas as pd"
   ]
  },
  {
   "cell_type": "code",
   "execution_count": 155,
   "metadata": {},
   "outputs": [],
   "source": [
    "df = pd.read_csv('sample_mobile_data_1000.csv', lineterminator='\\n')"
   ]
  },
  {
   "cell_type": "code",
   "execution_count": 156,
   "metadata": {},
   "outputs": [],
   "source": [
    "from bs4 import BeautifulSoup\n",
    "import requests"
   ]
  },
  {
   "cell_type": "code",
   "execution_count": 157,
   "metadata": {},
   "outputs": [],
   "source": [
    "page = requests.get('https://www.mobile.ir/brands/index.aspx')"
   ]
  },
  {
   "cell_type": "code",
   "execution_count": 158,
   "metadata": {},
   "outputs": [],
   "source": [
    "soup = BeautifulSoup(page.content.decode('utf-8'), 'html.parser')"
   ]
  },
  {
   "cell_type": "code",
   "execution_count": 159,
   "metadata": {},
   "outputs": [],
   "source": [
    "li = soup.findAll('li')\n",
    "brands = []\n",
    "for i in range(18, 88):\n",
    "    brands.append(' '.join(li[i].a['title'].split()).split('/')[0].strip())\n",
    "    brands.append(' '.join(li[i].a['title'].split()).split('/')[1].strip())"
   ]
  },
  {
   "cell_type": "code",
   "execution_count": 160,
   "metadata": {},
   "outputs": [],
   "source": [
    "brands.remove('Dell')\n",
    "brands.remove('دل')\n",
    "brands.remove('Gigabyte')\n",
    "brands.remove('گیگابایت')\n",
    "brands.remove('Bird')\n",
    "brands.remove('برد')"
   ]
  },
  {
   "cell_type": "code",
   "execution_count": 161,
   "metadata": {},
   "outputs": [
    {
     "data": {
      "text/plain": [
       "['apple',\n",
       " 'اپل',\n",
       " 'samsung',\n",
       " 'سامسونگ',\n",
       " 'sony',\n",
       " 'سونی',\n",
       " 'lg',\n",
       " 'ال جی',\n",
       " 'google',\n",
       " 'گوگل',\n",
       " 'microsoft',\n",
       " 'مایکروسافت',\n",
       " 'nokia',\n",
       " 'نوکیا',\n",
       " 'htc',\n",
       " 'اچ تی سی',\n",
       " 'huawei',\n",
       " 'هواوی',\n",
       " 'xiaomi',\n",
       " 'شیائومی',\n",
       " 'lenovo',\n",
       " 'لنوو',\n",
       " 'motorola',\n",
       " 'موتورولا',\n",
       " 'blackberry',\n",
       " 'بلک بری',\n",
       " 'asus',\n",
       " 'ایسوس',\n",
       " 'oppo',\n",
       " 'اوپو',\n",
       " 'oneplus',\n",
       " 'وان پلاس',\n",
       " 'vivo',\n",
       " 'ویوو',\n",
       " 'meizu',\n",
       " 'میزو',\n",
       " 'zte',\n",
       " 'زد تی ای',\n",
       " 'glx',\n",
       " 'جی ال ایکس',\n",
       " 'acer',\n",
       " 'ایسر',\n",
       " 'alcatel',\n",
       " 'آلکاتل',\n",
       " 'amoi',\n",
       " 'اموی',\n",
       " 'benefon',\n",
       " 'بنفون',\n",
       " 'benq',\n",
       " 'بنکیو',\n",
       " 'benq-siemens',\n",
       " 'بنکیو-زیمنس',\n",
       " 'bosch',\n",
       " 'بوش',\n",
       " 'chea',\n",
       " 'چی آ',\n",
       " 'ericsson',\n",
       " 'اریکسون',\n",
       " 'eten',\n",
       " 'اتن',\n",
       " 'fujitsu siemens',\n",
       " 'فوجیتسو زیمنس',\n",
       " 'i-mate',\n",
       " 'آی میت',\n",
       " 'i-mobile',\n",
       " 'آی-موبایل',\n",
       " 'innostream',\n",
       " 'اینو استیریم',\n",
       " 'kyocera',\n",
       " 'کیوسرا',\n",
       " 'maxon',\n",
       " 'مکسون',\n",
       " 'mitac',\n",
       " 'میتاک',\n",
       " 'mitsubishi',\n",
       " 'میتسوبیشی',\n",
       " 'nec',\n",
       " 'ان ای سی',\n",
       " 'neonode',\n",
       " 'نئونود',\n",
       " 'o2',\n",
       " 'او تو',\n",
       " 'palm',\n",
       " 'پالم',\n",
       " 'pantech',\n",
       " 'پن تک',\n",
       " 'qtek',\n",
       " 'کیوتک',\n",
       " 'sagem',\n",
       " 'ساژم',\n",
       " 'sendo',\n",
       " 'سندو',\n",
       " 'sewon',\n",
       " 'سون',\n",
       " 'siemens',\n",
       " 'زیمنس',\n",
       " 'tel.me.',\n",
       " 'تل می',\n",
       " 'telit',\n",
       " 'تلیت',\n",
       " 'thuraya',\n",
       " 'ثریا',\n",
       " 'vk mobile',\n",
       " 'وی کی موبایل',\n",
       " 'vodafone',\n",
       " 'ودافون',\n",
       " 'wnd',\n",
       " 'دبلیو ان دی',\n",
       " 'xcute',\n",
       " 'اکس کیوت',\n",
       " 'amazon',\n",
       " 'آمازون',\n",
       " 'dimo',\n",
       " 'دیمو',\n",
       " 'haier',\n",
       " 'هایر',\n",
       " 'hp',\n",
       " 'اچ پی',\n",
       " 'panasonic',\n",
       " 'پاناسونیک',\n",
       " 'philips',\n",
       " 'فیلیپس',\n",
       " 'prestigio',\n",
       " 'پرستیژیو',\n",
       " 'sharp',\n",
       " 'شارپ',\n",
       " 'sonim',\n",
       " 'سونیم',\n",
       " 'sony ericsson',\n",
       " 'سونی اریکسون',\n",
       " 'toshiba',\n",
       " 'توشیبا',\n",
       " 'vertu',\n",
       " 'ورتو']"
      ]
     },
     "execution_count": 161,
     "metadata": {},
     "output_type": "execute_result"
    }
   ],
   "source": [
    "brand = []\n",
    "\n",
    "for b in brands:\n",
    "    brand.append(b.lower())\n",
    "brand"
   ]
  },
  {
   "cell_type": "code",
   "execution_count": 283,
   "metadata": {},
   "outputs": [],
   "source": [
    "labels = []\n",
    "apple = ['آیفون', 'iphone','ایفون', 'آی فون', 'ای فون', '6s' , '7 plus', '5s', '6s', '5 s', '6 s', '8 plus', '7plus', '8plus', 'i phone', 'iphon', 'سیکس اس', 'سون پلاس', 'پلاس']\n",
    "samsung = ['گلکسی', 'نوت', 'galaxy', 'note', 'نت','s3', 's4', 's5', 's6', 's7', 's8', 's9', 'a2', 'a3', 'a4', 'a1', 'a7', 'a8', 'a9', 'a5', 'a6', 'j1', 'j2', 'j3', 'j4', 'j5', 'j6', 'j7', 'j8']\n",
    "sony = ['z1', 'z2', 'z3', 'z4', 'z5']\n",
    "nokia = ['n97', 'lumia', 'لومیا', '3310']\n",
    "huawei = ['هوآوی', 'هوآوى', 'honor', 'هانر' , 'انر', '3c', 'تری سی', 'y330', 'mate', 'y220']\n",
    "for index, row in df.iterrows():\n",
    "    found = False\n",
    "    for b in range(1, len(brand), 2):\n",
    "        if (brand[b] in row.title.lower() or brand[b] in row.desc.lower()) or (brand[b-1] in row.title.lower() or brand[b-1] in row.desc.lower()):\n",
    "            if row.title.lower().find(' '+ brand[b]) or row.title.lower().find(brand[b]+' ') or row.title.lower().find(' '+brand[b]+' ') \\\n",
    "                or row.desc.lower().find(' '+ brand[b]) or row.desc.lower().find(brand[b]+' ') or row.desc.lower().find(' '+brand[b]+' '):\n",
    "                labels.append(brand[b])\n",
    "                found = True\n",
    "                break\n",
    "    if not found:\n",
    "        for h in huawei:\n",
    "            if h in row.desc.lower() or h in row.title.lower():\n",
    "                labels.append('هواوی')\n",
    "                found = True\n",
    "                break\n",
    "    if not found:\n",
    "        for s in sony:\n",
    "            if s in row.desc.lower() or s in row.title.lower():\n",
    "                labels.append('سونی')\n",
    "                found = True\n",
    "                break\n",
    "    if not found:\n",
    "        for a in apple:\n",
    "            if a in row.desc.lower() or a in row.title.lower():\n",
    "                labels.append('اپل')\n",
    "                found = True\n",
    "                break\n",
    "    if not found:\n",
    "        for s in samsung:\n",
    "            if s in row.desc.lower() or s in row.title.lower():\n",
    "                labels.append('سامسونگ')\n",
    "                found = True\n",
    "                break\n",
    "    if not found:\n",
    "        labels.append('unknown')"
   ]
  },
  {
   "cell_type": "code",
   "execution_count": 284,
   "metadata": {},
   "outputs": [
    {
     "name": "stdout",
     "output_type": "stream",
     "text": [
      "32\n",
      "53\n",
      "60\n",
      "63\n",
      "78\n",
      "80\n",
      "83\n",
      "110\n",
      "113\n",
      "120\n",
      "140\n",
      "144\n",
      "150\n",
      "171\n",
      "185\n",
      "190\n",
      "210\n",
      "238\n",
      "250\n",
      "262\n",
      "265\n",
      "267\n",
      "280\n",
      "282\n",
      "289\n",
      "290\n",
      "296\n",
      "311\n",
      "314\n",
      "340\n",
      "374\n",
      "375\n",
      "386\n",
      "402\n",
      "419\n",
      "425\n",
      "430\n",
      "432\n",
      "467\n",
      "473\n",
      "501\n",
      "503\n",
      "530\n",
      "552\n",
      "564\n",
      "594\n",
      "595\n",
      "596\n",
      "602\n",
      "606\n",
      "607\n",
      "611\n",
      "617\n",
      "619\n",
      "623\n",
      "629\n",
      "633\n",
      "641\n",
      "644\n",
      "652\n",
      "676\n",
      "677\n",
      "681\n",
      "698\n",
      "704\n",
      "732\n",
      "737\n",
      "763\n",
      "771\n",
      "775\n",
      "778\n",
      "810\n",
      "814\n",
      "817\n",
      "819\n",
      "820\n",
      "835\n",
      "841\n",
      "842\n",
      "845\n",
      "847\n",
      "875\n",
      "889\n",
      "891\n",
      "910\n",
      "918\n",
      "935\n",
      "937\n",
      "940\n",
      "942\n",
      "960\n",
      "963\n",
      "981\n",
      "982\n",
      "total is 94\n"
     ]
    }
   ],
   "source": [
    "j = 0\n",
    "for i in range(len(labels)):\n",
    "    if labels[i] == 'unknown':\n",
    "        j += 1\n",
    "        print(i)\n",
    "        \n",
    "print('total is ' + str(j))\n"
   ]
  },
  {
   "cell_type": "code",
   "execution_count": 287,
   "metadata": {},
   "outputs": [
    {
     "data": {
      "text/plain": [
       "633    ال سیدی سوخت باطری باد کرده\n",
       "Name: desc, dtype: object"
      ]
     },
     "execution_count": 287,
     "metadata": {},
     "output_type": "execute_result"
    }
   ],
   "source": [
    "df.iloc[[633]].desc"
   ]
  },
  {
   "cell_type": "code",
   "execution_count": 202,
   "metadata": {},
   "outputs": [
    {
     "data": {
      "text/plain": [
       "False"
      ]
     },
     "execution_count": 202,
     "metadata": {},
     "output_type": "execute_result"
    }
   ],
   "source": [
    "'هوآوی' == 'هوآوى'"
   ]
  },
  {
   "cell_type": "code",
   "execution_count": null,
   "metadata": {},
   "outputs": [],
   "source": []
  }
 ],
 "metadata": {
  "kernelspec": {
   "display_name": "Python 3",
   "language": "python",
   "name": "python3"
  },
  "language_info": {
   "codemirror_mode": {
    "name": "ipython",
    "version": 3
   },
   "file_extension": ".py",
   "mimetype": "text/x-python",
   "name": "python",
   "nbconvert_exporter": "python",
   "pygments_lexer": "ipython3",
   "version": "3.6.5"
  }
 },
 "nbformat": 4,
 "nbformat_minor": 2
}
